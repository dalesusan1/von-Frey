{
 "cells": [
  {
   "cell_type": "code",
   "execution_count": 1,
   "metadata": {},
   "outputs": [],
   "source": [
    "#Importing all the necessary packages to run the code\n",
    "\n",
    "import numpy as np\n",
    "import matplotlib.pyplot as plt\n",
    "import scipy.optimize as optimize\n",
    "import pandas as pd\n",
    "import trial"
   ]
  },
  {
   "cell_type": "code",
   "execution_count": 2,
   "metadata": {},
   "outputs": [],
   "source": [
    "# Force and Vmax never changes betweene experiments as we use the same filaments and the maximum response (Vmax) to the highest filament would be 100%\n",
    "#Km_predicted is set to 1 (it is an educated guess and does not need to be changed)\n",
    "\n",
    "force = np.array([0.04, 0.07, 0.16, 0.4, 0.6, 1, 1.4, 2, 4, 6]) \n",
    "Vmax = 100\n",
    "Km_predicted = 1"
   ]
  },
  {
   "cell_type": "code",
   "execution_count": 3,
   "metadata": {},
   "outputs": [],
   "source": [
    "#Defining a function to get the input values for each animal\n",
    "\n",
    "def Total_count(*x):\n",
    "    new = []\n",
    "    count = 1\n",
    "    while count <= 10:\n",
    "        user = int(input(\"total hits: \" ))\n",
    "        if user >= 0:\n",
    "            count = count+1\n",
    "            new.append(user)\n",
    "    print(\"*\"*12)\n",
    "    return new"
   ]
  },
  {
   "cell_type": "code",
   "execution_count": null,
   "metadata": {},
   "outputs": [],
   "source": [
    "#Defining a function to set the total hits in an ascending order \n",
    "\n",
    "def Ascend(x):\n",
    "    '''ascend(x) returns values if the number of hits for the different filaments is in ascending order'''\n",
    "    if x[0] <= x[1] <= x[2] <= x[3] <= x[4] <= x[5] <= x[6] <= x[7] <= x[8] <= x[9]:\n",
    "        return(x)\n",
    "    \n",
    "    else:\n",
    "        x[9] = 6\n",
    "        x[0] = np.floor((x[0]+x[1])/2)\n",
    "        x[1] = np.floor((x[1]+x[2])/2)\n",
    "        x[2] = np.floor((x[2]+x[3])/2)\n",
    "        x[3] = np.floor((x[3]+x[4])/2)\n",
    "        x[4] = np.floor((x[4]+x[5])/2)\n",
    "        x[5] = np.floor((x[5]+x[6])/2)\n",
    "        x[6] = np.floor((x[6]+x[7])/2)\n",
    "        x[7] = np.floor((x[7]+x[8])/2)\n",
    "        x[8] = np.floor((x[8]+x[9])/2)\n",
    "        return(x)"
   ]
  },
  {
   "cell_type": "code",
   "execution_count": null,
   "metadata": {},
   "outputs": [],
   "source": [
    "#Defining a function to get the % of hits for each filament\n",
    "\n",
    "def Per_Tot(x):\n",
    "    per_tot = [round((x*100)/6,2) for x in x]\n",
    "    return per_tot"
   ]
  },
  {
   "cell_type": "code",
   "execution_count": 6,
   "metadata": {},
   "outputs": [],
   "source": [
    "def Ascend(x):\n",
    "    '''ascend(x) returns values if the number of hits for the different filaments is in ascending order'''\n",
    "    if x[0] <= x[1] <= x[2] <= x[3] <= x[4] <= x[5] <= x[6] <= x[7] <= x[8] <= x[9]:\n",
    "        return(x)\n",
    "    \n",
    "    else:\n",
    "        x[9] = 6\n",
    "        x[0] = np.floor((x[0]+x[1])/2)\n",
    "        x[1] = np.floor((x[1]+x[2])/2)\n",
    "        x[2] = np.floor((x[2]+x[3])/2)\n",
    "        x[3] = np.floor((x[3]+x[4])/2)\n",
    "        x[4] = np.floor((x[4]+x[5])/2)\n",
    "        x[5] = np.floor((x[5]+x[6])/2)\n",
    "        x[6] = np.floor((x[6]+x[7])/2)\n",
    "        x[7] = np.floor((x[7]+x[8])/2)\n",
    "        x[8] = np.floor((x[8]+x[9])/2)\n",
    "    per_tot = [round((x*100)/6,2) for x in x]\n",
    "    return per_tot"
   ]
  },
  {
   "cell_type": "code",
   "execution_count": 7,
   "metadata": {},
   "outputs": [
    {
     "name": "stdout",
     "output_type": "stream",
     "text": [
      "total hits: 0\n",
      "total hits: 1\n",
      "total hits: 2\n",
      "total hits: 2\n",
      "total hits: 1\n",
      "total hits: 3\n",
      "total hits: 5\n",
      "total hits: 6\n",
      "total hits: 6\n",
      "total hits: 6\n",
      "************\n"
     ]
    }
   ],
   "source": [
    "#Enter the total value for each corresponding force for each animal\n",
    "\n",
    "RD_1L = Total_count()\n",
    "# RD_1R = Total_count()\n",
    "# RD_0  = Total_count()\n",
    "# RD_2L = Total_count()\n",
    "# RD_2R = Total_count()\n",
    "\n",
    "# HFD_1L = Total_count()\n",
    "# HFD_1R = Total_count()\n",
    "# HFD_0 =  Total_count()\n",
    "# HFD_2L = Total_count()\n",
    "# HFD_2R = Total_count()\n",
    "\n",
    "\n",
    "#################################################### OR ############################################################\n",
    "############################################## Enter Manually ######################################################\n",
    "\n",
    "# RD_1L = [, , , , , , , , , ]\n",
    "# RD_1R = [, , , , , , , , , ]\n",
    "# RD_0 =  [, , , , , , , , , ]\n",
    "# RD_2L = [, , , , , , , , , ]\n",
    "# RD_2R = [, , , , , , , , , ]\n",
    "\n",
    "\n",
    "# HFD_1L = [, , , , , , , , , ]\n",
    "# HFD_1R = [, , , , , , , , , ]\n",
    "# HFD_0 =  [, , , , , , , , , ]\n",
    "# HFD_2L = [, , , , , , , , , ]\n",
    "# HFD_2R = [, , , , , , , , , ]"
   ]
  },
  {
   "cell_type": "code",
   "execution_count": 8,
   "metadata": {},
   "outputs": [
    {
     "data": {
      "text/plain": [
       "[0.0, 16.67, 33.33, 16.67, 33.33, 66.67, 83.33, 100.0, 100.0, 100.0]"
      ]
     },
     "execution_count": 8,
     "metadata": {},
     "output_type": "execute_result"
    }
   ],
   "source": [
    "#Running the ascending function\n",
    "\n",
    "Ascend(RD_1L)\n",
    "# Ascend(RD_1R)\n",
    "# Ascend(RD_0)\n",
    "# Ascend(RD_2L)\n",
    "# Ascend(RD_2R)\n",
    "\n",
    "# Ascend(HFD_1L)\n",
    "# Ascend(HFD_1R)\n",
    "# Ascend(HFD_0)\n",
    "# Ascend(HFD_2L)\n",
    "# Ascend(HFD_2R)"
   ]
  },
  {
   "cell_type": "code",
   "execution_count": null,
   "metadata": {},
   "outputs": [],
   "source": [
    "#Running the % function\n",
    "\n",
    "RD_1L = Per_Tot(RD_1L)\n",
    "RD_1R = Per_Tot(RD_1R)\n",
    "RD_0 = Per_Tot(RD_0)\n",
    "RD_2L = Per_Tot(RD_2L)\n",
    "RD_2R = Per_Tot(RD_2R)\n",
    "\n",
    "HFD_1L = Per_Tot(HFD_1L)\n",
    "HFD_1R = Per_Tot(HFD_1R)\n",
    "HFD_0 = Per_Tot(HFD_0)\n",
    "HFD_2L = Per_Tot(HFD_2L)\n",
    "HFD_2R = Per_Tot(HFD_2R)"
   ]
  },
  {
   "cell_type": "code",
   "execution_count": null,
   "metadata": {},
   "outputs": [],
   "source": [
    "#Finding the V estimated and finding the sum of squares for each animal\n",
    "\n",
    "RD_1L_Vest = lambda Km: ((RD_1L - Vmax*force/(Km + force))**2).sum()\n",
    "RD_1R_Vest = lambda Km: ((RD_1R - Vmax*force/(Km + force))**2).sum()\n",
    "RD_0_Vest = lambda Km: ((RD_0 - Vmax*force/(Km + force))**2).sum()\n",
    "RD_2L_Vest = lambda Km: ((RD_2L - Vmax*force/(Km + force))**2).sum()\n",
    "RD_2R_Vest = lambda Km: ((RD_2R - Vmax*force/(Km + force))**2).sum()\n",
    "\n",
    "HFD_1L_Vest = lambda Km: ((HFD_1L - Vmax*force/(Km + force))**2).sum()\n",
    "HFD_1R_Vest = lambda Km: ((HFD_1R - Vmax*force/(Km + force))**2).sum()\n",
    "HFD_0_Vest = lambda Km: ((HFD_0 - Vmax*force/(Km + force))**2).sum()\n",
    "HFD_2L_Vest = lambda Km: ((HFD_2L - Vmax*force/(Km + force))**2).sum()\n",
    "HFD_2R_Vest = lambda Km: ((HFD_2R - Vmax*force/(Km + force))**2).sum()\n",
    "\n",
    "#Enter the first argument in the lambda function as 1\n",
    "\n",
    "RD_1L_Vest(1)\n",
    "RD_1R_Vest(1)\n",
    "RD_0_Vest(1)\n",
    "RD_2L_Vest(1)\n",
    "RD_2R_Vest(1)\n",
    "\n",
    "HFD_1L_Vest(1)\n",
    "HFD_1R_Vest(1)\n",
    "HFD_0_Vest(1)\n",
    "HFD_2L_Vest(1)\n",
    "HFD_2R_Vest(1)"
   ]
  },
  {
   "cell_type": "code",
   "execution_count": null,
   "metadata": {},
   "outputs": [],
   "source": [
    "#Determining the 50% withdrawal threshold (Km) by changing the Vestimated to the least value for the sum of squares\n",
    "\n",
    "RD_1L_Km_p = optimize.minimize(RD_1L_Vest,Km_predicted,bounds=[[0,np.inf]],method='L-BFGS-B')\n",
    "RD_1R_Km_p = optimize.minimize(RD_1R_Vest,Km_predicted,bounds=[[0,np.inf]],method='L-BFGS-B')\n",
    "RD_0_Km_p = optimize.minimize(RD_0_Vest,Km_predicted,bounds=[[0,np.inf]],method='L-BFGS-B')\n",
    "RD_2L_Km_p = optimize.minimize(RD_2L_Vest,Km_predicted,bounds=[[0,np.inf]],method='L-BFGS-B')\n",
    "RD_2R_Km_p = optimize.minimize(RD_2R_Vest,Km_predicted,bounds=[[0,np.inf]],method='L-BFGS-B')\n",
    "\n",
    "\n",
    "HFD_1L_Km_p = optimize.minimize(HFD_1L_Vest,Km_predicted,bounds=[[0,np.inf]],method='L-BFGS-B')\n",
    "HFD_1R_Km_p = optimize.minimize(HFD_1R_Vest,Km_predicted,bounds=[[0,np.inf]],method='L-BFGS-B')\n",
    "HFD_0_Km_p = optimize.minimize(HFD_0_Vest,Km_predicted,bounds=[[0,np.inf]],method='L-BFGS-B')\n",
    "HFD_2L_Km_p = optimize.minimize(HFD_2L_Vest,Km_predicted,bounds=[[0,np.inf]],method='L-BFGS-B')\n",
    "HFD_2R_Km_p = optimize.minimize(HFD_2R_Vest,Km_predicted,bounds=[[0,np.inf]],method='L-BFGS-B')\n",
    "\n",
    "RD_1L_Km = RD_1L_Km_p.x\n",
    "RD_1R_Km = RD_1R_Km_p.x\n",
    "RD_0_Km = RD_0_Km_p.x\n",
    "RD_2L_Km = RD_2L_Km_p.x\n",
    "RD_2R_Km = RD_2R_Km_p.x\n",
    "\n",
    "HFD_1L_Km = HFD_1L_Km_p.x\n",
    "HFD_1R_Km = HFD_1R_Km_p.x\n",
    "HFD_0_Km = HFD_0_Km_p.x\n",
    "HFD_2L_Km = HFD_2L_Km_p.x\n",
    "HFD_2R_Km = HFD_2R_Km_p.x\n"
   ]
  },
  {
   "cell_type": "code",
   "execution_count": null,
   "metadata": {},
   "outputs": [],
   "source": [
    "#Summarizing and creating a dataframe\n",
    "\n",
    "summary = pd.DataFrame({\"RD_1L\": RD_1L_Km,\n",
    "                        \"RD_1R\": RD_1R_Km,\n",
    "                        \"RD_0\": RD_0_Km,\n",
    "                        \"RD_2L\": RD_2L_Km,\n",
    "                        \"RD_2R\": RD_2R_Km,\n",
    "                        \"HFD_1L\": HFD_1L_Km,\n",
    "                        \"HFD_1R\": HFD_1R_Km,\n",
    "                        \"HFD_0\": HFD_0_Km,\n",
    "                        \"HFD_2L\": HFD_2L_Km,\n",
    "                        \"HFD_2R\": HFD_2R_Km})"
   ]
  },
  {
   "cell_type": "code",
   "execution_count": null,
   "metadata": {},
   "outputs": [],
   "source": [
    "#Modifying the layout and renaming the columns for downstream calculations and plotting\n",
    "\n",
    "summary = summary.transpose().reset_index().rename(columns={\"index\": \"Animal_ID\", 0: \"Baseline\"})\n",
    "summary"
   ]
  },
  {
   "cell_type": "code",
   "execution_count": null,
   "metadata": {},
   "outputs": [],
   "source": [
    "#Plotting \n",
    "\n",
    "plt.figure(figsize=(10,3))\n",
    "plt.tight_layout()\n",
    "\n",
    "x_axis = np.arange(len(summary[\"Animal_ID\"]))\n",
    "plt.xlim([-0.5, x_axis.size-0.5])\n",
    "y_axis = summary[\"Baseline\"]\n",
    "plt.ylim([0, 2])\n",
    "\n",
    "tick_locations = [value for value in x_axis]\n",
    "plt.xticks(tick_locations, summary[\"Animal_ID\"], rotation=90, fontsize=12)\n",
    "colors = ['C0', 'C0', 'C0', 'C0', 'C0', 'C3','C3','C3','C3','C3'] #editing needed \n",
    "\n",
    "plt.bar(x_axis, y_axis, color=colors, align=\"center\")\n",
    "\n",
    "# Formatting\n",
    "\n",
    "plt.title(\"VF\", fontsize=18, fontname=\"arial\")\n",
    "plt.xlabel(\"Animal ID\", fontsize=14, fontname=\"arial\")\n",
    "plt.ylabel(\"50% Withdrawal Threshold (g)\", fontsize=14, fontname=\"arial\")\n"
   ]
  },
  {
   "cell_type": "code",
   "execution_count": null,
   "metadata": {},
   "outputs": [],
   "source": [
    "#Modifying the summary table to summarize by diet \n",
    "\n",
    "summary[['Diet','ID']] = summary.Animal_ID.str.split(\"_\",expand=True)\n",
    "diet_summary = round(summary.groupby(['Diet']).mean(),2).reset_index().sort_values(by='Diet', ascending=False)\n",
    "diet_summary_sem = round(summary.groupby(['Diet']).sem(),2).reset_index().sort_values(by='Diet', ascending=False)"
   ]
  },
  {
   "cell_type": "code",
   "execution_count": null,
   "metadata": {},
   "outputs": [],
   "source": [
    "#Plotting\n",
    "\n",
    "plt.figure(figsize=(5,3))\n",
    "plt.tight_layout()\n",
    "\n",
    "x_axis_1 = np.arange(len(diet_summary[\"Diet\"]))\n",
    "plt.xlim([-0.5, x_axis_1.size-0.5])\n",
    "y_axis_1 = diet_summary[\"Baseline\"]\n",
    "plt.ylim([0, 2])\n",
    "\n",
    "tick_locations = [value for value in x_axis_1]\n",
    "plt.xticks(tick_locations, diet_summary[\"Diet\"], rotation=90, fontsize=12)\n",
    "\n",
    "colors = ['C0', 'C3']\n",
    "\n",
    "plt.bar(x_axis_1, y_axis_1, color=colors, align=\"center\", yerr=diet_summary_sem[\"Baseline\"])\n",
    "\n",
    "\n",
    "# Formatting\n",
    "plt.title(\"VF\", fontsize=18, fontname=\"arial\")\n",
    "plt.xlabel(\"Diet\", fontsize=14, fontname=\"arial\")\n",
    "plt.ylabel(\"50% Withdrawal Threshold (g)\", fontsize=14, fontname=\"arial\")\n"
   ]
  },
  {
   "cell_type": "code",
   "execution_count": null,
   "metadata": {},
   "outputs": [],
   "source": [
    "#Writting to CSV\n",
    "\n",
    "with pd.ExcelWriter('VF_baseline_output.xlsx') as writer:\n",
    "    summary.to_excel(writer, sheet_name='summary.csv', index=False)\n",
    "    diet_summary.to_excel(writer, sheet_name='diet_summary', index=False)"
   ]
  }
 ],
 "metadata": {
  "kernelspec": {
   "display_name": "Python 3",
   "language": "python",
   "name": "python3"
  },
  "language_info": {
   "codemirror_mode": {
    "name": "ipython",
    "version": 3
   },
   "file_extension": ".py",
   "mimetype": "text/x-python",
   "name": "python",
   "nbconvert_exporter": "python",
   "pygments_lexer": "ipython3",
   "version": "3.7.4"
  }
 },
 "nbformat": 4,
 "nbformat_minor": 2
}
