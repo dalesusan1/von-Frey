{
 "cells": [
  {
   "cell_type": "code",
   "execution_count": 1,
   "metadata": {},
   "outputs": [],
   "source": [
    "import numpy as np\n",
    "import matplotlib.pyplot as plt\n",
    "from scipy.stats import linregress\n",
    "import scipy.optimize as optimize\n",
    "import pandas as pd\n",
    "import seaborn as sns"
   ]
  },
  {
   "cell_type": "code",
   "execution_count": 2,
   "metadata": {},
   "outputs": [],
   "source": [
    "#No editing needed\n",
    "force = np.array([0.04, 0.07, 0.16, 0.4, 0.6, 1, 1.4, 2, 4, 6]) #values from column A in the excel\n",
    "Vmax = 100\n",
    "Km_predicted = 1"
   ]
  },
  {
   "cell_type": "code",
   "execution_count": 3,
   "metadata": {},
   "outputs": [],
   "source": [
    "#Defining functions\n",
    "\n",
    "def Ascend(x):\n",
    "    '''ascend(x) returns values if the number of hits for the different filaments is in ascending order'''\n",
    "    if x[0] <= x[1] <= x[2] <= x[3] <= x[4] <= x[5] <= x[6] <= x[7] <= x[8] <= x[9]:\n",
    "        return(x)\n",
    "    \n",
    "    else:\n",
    "        x[9] = 6\n",
    "        x[0] = np.floor((x[0]+x[1])/2)\n",
    "        x[1] = np.floor((x[1]+x[2])/2)\n",
    "        x[2] = np.floor((x[2]+x[3])/2)\n",
    "        x[3] = np.floor((x[3]+x[4])/2)\n",
    "        x[4] = np.floor((x[4]+x[5])/2)\n",
    "        x[5] = np.floor((x[5]+x[6])/2)\n",
    "        x[6] = np.floor((x[6]+x[7])/2)\n",
    "        x[7] = np.floor((x[7]+x[8])/2)\n",
    "        x[8] = np.floor((x[8]+x[9])/2)\n",
    "        return(x)"
   ]
  },
  {
   "cell_type": "code",
   "execution_count": 4,
   "metadata": {},
   "outputs": [],
   "source": [
    "def Per_Tot(x):\n",
    "    per_tot = [round((x*100)/6,2) for x in x]\n",
    "    return per_tot"
   ]
  },
  {
   "cell_type": "code",
   "execution_count": 5,
   "metadata": {},
   "outputs": [],
   "source": [
    "#Enter the total value for each corresponding force for each animal (RD_2R, HFD_0 refers to the animal ID, two different examples to try the code)\n",
    "# The list is basically the numbers from column H in the excel sheet - the total\n",
    "\n",
    "\n",
    "RD_1L = [0,0,1,1,2,3,3,3,5,6]\n",
    "RD_1R = [0,0,1,1,2,2,3,3,5,6]\n",
    "# RD_0  = []\n",
    "RD_2L = [0,0,0,0,2,2,2,4,5,6]\n",
    "# RD_2R = []\n",
    "\n",
    "HFD_1L = [0,0,0,2,4,4,6,6,6,6]\n",
    "HFD_1R = [0,0,1,0,3,4,6,6,6,6]\n",
    "HFD_0 =  [0,0,1,3,5,6,6,6,6,6]\n",
    "HFD_2L = [0,0,1,0,4,6,6,6,6,6]\n",
    "HFD_2R = [0,0,0,4,4,6,6,6,6,6]\n",
    "\n",
    "\n",
    "##### After treatment(_t) (eg: Saline or Beta-alanine)\n",
    "\n",
    "RD_1L_t = [0,0,4,5,5,6,6,6,6,6]\n",
    "RD_1R_t = [0,0,1,6,6,6,6,6,6,6]\n",
    "# RD_0_t =  []\n",
    "RD_2L_t = [0,0,0,2,2,1,2,4,5,6]\n",
    "# RD_2R_t = []\n",
    "\n",
    "\n",
    "HFD_1L_t = [0,0,3,2,3,1,0,1,6,6]\n",
    "HFD_1R_t = [0,0,3,5,1,4,6,6,6,6]\n",
    "HFD_0_t =  [0,0,3,5,4,4,6,6,6,6]\n",
    "HFD_2L_t = [0,0,1,2,3,3,5,6,6,6]\n",
    "HFD_2R_t = [0,0,3,3,3,4,6,6,6,6]\n"
   ]
  },
  {
   "cell_type": "code",
   "execution_count": 6,
   "metadata": {},
   "outputs": [
    {
     "data": {
      "text/plain": [
       "[0, 0, 3, 3, 3, 4, 6, 6, 6, 6]"
      ]
     },
     "execution_count": 6,
     "metadata": {},
     "output_type": "execute_result"
    }
   ],
   "source": [
    "Ascend(RD_1L)\n",
    "Ascend(RD_1R)\n",
    "# Ascend(RD_0)\n",
    "Ascend(RD_2L)\n",
    "# Ascend(RD_2R)\n",
    "\n",
    "Ascend(HFD_1L)\n",
    "Ascend(HFD_1R)\n",
    "Ascend(HFD_0)\n",
    "Ascend(HFD_2L)\n",
    "Ascend(HFD_2R)\n",
    "\n",
    "###After treatment\n",
    "\n",
    "Ascend(RD_1L_t)\n",
    "Ascend(RD_1R_t)\n",
    "# Ascend(RD_0_t)\n",
    "Ascend(RD_2L_t)\n",
    "# Ascend(RD_2R_t)\n",
    "\n",
    "Ascend(HFD_1L_t)\n",
    "Ascend(HFD_1R_t)\n",
    "Ascend(HFD_0_t)\n",
    "Ascend(HFD_2L_t)\n",
    "Ascend(HFD_2R_t)"
   ]
  },
  {
   "cell_type": "code",
   "execution_count": 7,
   "metadata": {},
   "outputs": [],
   "source": [
    "RD_1L = Per_Tot(RD_1L)\n",
    "RD_1R = Per_Tot(RD_1R)\n",
    "# RD_0 = Per_Tot(RD_0)\n",
    "RD_2L = Per_Tot(RD_2L)\n",
    "# RD_2R = Per_Tot(RD_2R)\n",
    "\n",
    "HFD_1L = Per_Tot(HFD_1L)\n",
    "HFD_1R = Per_Tot(HFD_1R)\n",
    "HFD_0 = Per_Tot(HFD_0)\n",
    "HFD_2L = Per_Tot(HFD_2L)\n",
    "HFD_2R = Per_Tot(HFD_2R)\n",
    "\n",
    "###After treatment\n",
    "\n",
    "RD_1L_t = Per_Tot(RD_1L_t)\n",
    "RD_1R_t = Per_Tot(RD_1R_t)\n",
    "# RD_0_t = Per_Tot(RD_0_t)\n",
    "RD_2L_t = Per_Tot(RD_2L_t)\n",
    "# RD_2R_t = Per_Tot(RD_2R_t)\n",
    "\n",
    "HFD_1L_t = Per_Tot(HFD_1L_t)\n",
    "HFD_1R_t = Per_Tot(HFD_1R_t)\n",
    "HFD_0_t = Per_Tot(HFD_0_t)\n",
    "HFD_2L_t = Per_Tot(HFD_2L_t)\n",
    "HFD_2R_t = Per_Tot(HFD_2R_t)"
   ]
  },
  {
   "cell_type": "code",
   "execution_count": 8,
   "metadata": {},
   "outputs": [
    {
     "data": {
      "text/plain": [
       "5713.1571833455955"
      ]
     },
     "execution_count": 8,
     "metadata": {},
     "output_type": "execute_result"
    }
   ],
   "source": [
    "#Enter the first argument in the lambda function\n",
    "RD_1L_Vest = lambda Km: ((RD_1L - Vmax*force/(Km + force))**2).sum()\n",
    "RD_1R_Vest = lambda Km: ((RD_1R - Vmax*force/(Km + force))**2).sum()\n",
    "# RD_0_Vest = lambda Km: ((RD_0 - Vmax*force/(Km + force))**2).sum()\n",
    "RD_2L_Vest = lambda Km: ((RD_2L - Vmax*force/(Km + force))**2).sum()\n",
    "# RD_2R_Vest = lambda Km: ((RD_2R - Vmax*force/(Km + force))**2).sum()\n",
    "\n",
    "HFD_1L_Vest = lambda Km: ((HFD_1L - Vmax*force/(Km + force))**2).sum()\n",
    "HFD_1R_Vest = lambda Km: ((HFD_1R - Vmax*force/(Km + force))**2).sum()\n",
    "HFD_0_Vest = lambda Km: ((HFD_0 - Vmax*force/(Km + force))**2).sum()\n",
    "HFD_2L_Vest = lambda Km: ((HFD_2L - Vmax*force/(Km + force))**2).sum()\n",
    "HFD_2R_Vest = lambda Km: ((HFD_2R - Vmax*force/(Km + force))**2).sum()\n",
    "\n",
    "RD_1L_Vest(1)\n",
    "RD_1R_Vest(1)\n",
    "# RD_0_Vest(1)\n",
    "RD_2L_Vest(1)\n",
    "# RD_2R_Vest(1)\n",
    "\n",
    "HFD_1L_Vest(1)\n",
    "HFD_1R_Vest(1)\n",
    "HFD_0_Vest(1)\n",
    "HFD_2L_Vest(1)\n",
    "HFD_2R_Vest(1)\n",
    "\n",
    "###After treatment\n",
    "RD_1L_t_Vest = lambda Km: ((RD_1L_t - Vmax*force/(Km + force))**2).sum()\n",
    "RD_1R_t_Vest = lambda Km: ((RD_1R_t - Vmax*force/(Km + force))**2).sum()\n",
    "# RD_0_t_Vest = lambda Km: ((RD_0_t - Vmax*force/(Km + force))**2).sum()\n",
    "RD_2L_t_Vest = lambda Km: ((RD_2L_t - Vmax*force/(Km + force))**2).sum()\n",
    "# RD_2R_t_Vest = lambda Km: ((RD_2R_t - Vmax*force/(Km + force))**2).sum()\n",
    "\n",
    "HFD_1L_t_Vest = lambda Km: ((HFD_1L_t - Vmax*force/(Km + force))**2).sum()\n",
    "HFD_1R_t_Vest = lambda Km: ((HFD_1R_t - Vmax*force/(Km + force))**2).sum()\n",
    "HFD_0_t_Vest = lambda Km: ((HFD_0_t - Vmax*force/(Km + force))**2).sum()\n",
    "HFD_2L_t_Vest = lambda Km: ((HFD_2L_t - Vmax*force/(Km + force))**2).sum()\n",
    "HFD_2R_t_Vest = lambda Km: ((HFD_2R_t - Vmax*force/(Km + force))**2).sum()\n",
    "\n",
    "RD_1L_t_Vest(1)\n",
    "RD_1R_t_Vest(1)\n",
    "# RD_0_t_Vest(1)\n",
    "RD_2L_t_Vest(1)\n",
    "# RD_2R_t_Vest(1)\n",
    "\n",
    "HFD_1L_t_Vest(1)\n",
    "HFD_1R_t_Vest(1)\n",
    "HFD_0_t_Vest(1)\n",
    "HFD_2L_t_Vest(1)\n",
    "HFD_2R_t_Vest(1)"
   ]
  },
  {
   "cell_type": "code",
   "execution_count": 9,
   "metadata": {},
   "outputs": [],
   "source": [
    "RD_1L_Km_p = optimize.minimize(RD_1L_Vest,Km_predicted,bounds=[[0,np.inf]],method='L-BFGS-B')\n",
    "RD_1R_Km_p = optimize.minimize(RD_1R_Vest,Km_predicted,bounds=[[0,np.inf]],method='L-BFGS-B')\n",
    "# RD_0_Km_p = optimize.minimize(RD_0_Vest,Km_predicted,bounds=[[0,np.inf]],method='L-BFGS-B')\n",
    "RD_2L_Km_p = optimize.minimize(RD_2L_Vest,Km_predicted,bounds=[[0,np.inf]],method='L-BFGS-B')\n",
    "# RD_2R_Km_p = optimize.minimize(RD_2R_Vest,Km_predicted,bounds=[[0,np.inf]],method='L-BFGS-B')\n",
    "\n",
    "HFD_1L_Km_p = optimize.minimize(HFD_1L_Vest,Km_predicted,bounds=[[0,np.inf]],method='L-BFGS-B')\n",
    "HFD_1R_Km_p = optimize.minimize(HFD_1R_Vest,Km_predicted,bounds=[[0,np.inf]],method='L-BFGS-B')\n",
    "HFD_0_Km_p = optimize.minimize(HFD_0_Vest,Km_predicted,bounds=[[0,np.inf]],method='L-BFGS-B')\n",
    "HFD_2L_Km_p = optimize.minimize(HFD_2L_Vest,Km_predicted,bounds=[[0,np.inf]],method='L-BFGS-B')\n",
    "HFD_2R_Km_p = optimize.minimize(HFD_2R_Vest,Km_predicted,bounds=[[0,np.inf]],method='L-BFGS-B')\n",
    "\n",
    "RD_1L_Km = RD_1L_Km_p.x\n",
    "RD_1R_Km = RD_1R_Km_p.x\n",
    "# RD_0_Km =  RD_0_Km_p.x\n",
    "RD_2L_Km = RD_2L_Km_p.x\n",
    "# RD_2R_Km = RD_2R_Km_p.x\n",
    "\n",
    "HFD_1L_Km = HFD_1L_Km_p.x\n",
    "HFD_1R_Km = HFD_1R_Km_p.x\n",
    "HFD_0_Km =  HFD_0_Km_p.x\n",
    "HFD_2L_Km = HFD_2L_Km_p.x\n",
    "HFD_2R_Km = HFD_2R_Km_p.x\n",
    "\n",
    "\n",
    "###After treatment\n",
    "RD_1L_t_Km_p = optimize.minimize(RD_1L_t_Vest,Km_predicted,bounds=[[0,np.inf]],method='L-BFGS-B')\n",
    "RD_1R_t_Km_p = optimize.minimize(RD_1R_t_Vest,Km_predicted,bounds=[[0,np.inf]],method='L-BFGS-B')\n",
    "# RD_0_t_Km_p = optimize.minimize(RD_0_t_Vest,Km_predicted,bounds=[[0,np.inf]],method='L-BFGS-B')\n",
    "RD_2L_t_Km_p = optimize.minimize(RD_2L_t_Vest,Km_predicted,bounds=[[0,np.inf]],method='L-BFGS-B')\n",
    "# RD_2R_t_Km_p = optimize.minimize(RD_2R_t_Vest,Km_predicted,bounds=[[0,np.inf]],method='L-BFGS-B')\n",
    "\n",
    "HFD_1L_t_Km_p = optimize.minimize(HFD_1L_t_Vest,Km_predicted,bounds=[[0,np.inf]],method='L-BFGS-B')\n",
    "HFD_1R_t_Km_p = optimize.minimize(HFD_1R_t_Vest,Km_predicted,bounds=[[0,np.inf]],method='L-BFGS-B')\n",
    "HFD_0_t_Km_p = optimize.minimize(HFD_0_t_Vest,Km_predicted,bounds=[[0,np.inf]],method='L-BFGS-B')\n",
    "HFD_2L_t_Km_p = optimize.minimize(HFD_2L_t_Vest,Km_predicted,bounds=[[0,np.inf]],method='L-BFGS-B')\n",
    "HFD_2R_t_Km_p = optimize.minimize(HFD_2R_t_Vest,Km_predicted,bounds=[[0,np.inf]],method='L-BFGS-B')\n",
    "\n",
    "RD_1L_t_Km = RD_1L_t_Km_p.x\n",
    "RD_1R_t_Km = RD_1R_t_Km_p.x\n",
    "# RD_0_t_Km =  RD_0_t_Km_p.x\n",
    "RD_2L_t_Km = RD_2L_t_Km_p.x\n",
    "# RD_2R_t_Km = RD_2R_t_Km_p.x\n",
    "\n",
    "HFD_1L_t_Km = HFD_1L_t_Km_p.x\n",
    "HFD_1R_t_Km = HFD_1R_t_Km_p.x\n",
    "HFD_0_t_Km =  HFD_0_t_Km_p.x\n",
    "HFD_2L_t_Km = HFD_2L_t_Km_p.x\n",
    "HFD_2R_t_Km = HFD_2R_t_Km_p.x"
   ]
  },
  {
   "cell_type": "code",
   "execution_count": 10,
   "metadata": {},
   "outputs": [],
   "source": [
    "summary = pd.DataFrame({\"RD_1L\":  [RD_1L_Km[0],RD_1L_t_Km[0]],\n",
    "                        \"RD_1R\":  [RD_1R_Km[0],RD_1R_t_Km[0]],\n",
    "                        \"RD_2L\":  [RD_2L_Km[0],RD_2L_t_Km[0]],\n",
    "                        \"HFD_1L\": [HFD_1L_Km[0],HFD_1L_t_Km[0]],\n",
    "                        \"HFD_1R\": [HFD_1R_Km[0],HFD_1R_t_Km[0]],\n",
    "                        \"HFD_0\":  [HFD_0_Km[0], HFD_0_t_Km[0]],\n",
    "                        \"HFD_2L\": [HFD_2L_Km[0], HFD_2L_t_Km[0]],\n",
    "                        \"HFD_2R\": [HFD_2R_Km[0], HFD_2R_t_Km[0]]})"
   ]
  },
  {
   "cell_type": "code",
   "execution_count": 11,
   "metadata": {},
   "outputs": [],
   "source": [
    "summary = summary.transpose().reset_index().rename(columns={\"index\": \"Animal ID\", 0: \"Baseline\", 1: \"Treatment\"})\n",
    "summary[\"Percentage change\"] = round((summary[\"Baseline\"] - summary[\"Treatment\"])*100, 2)"
   ]
  },
  {
   "cell_type": "code",
   "execution_count": 12,
   "metadata": {},
   "outputs": [
    {
     "data": {
      "text/html": [
       "<div>\n",
       "<style scoped>\n",
       "    .dataframe tbody tr th:only-of-type {\n",
       "        vertical-align: middle;\n",
       "    }\n",
       "\n",
       "    .dataframe tbody tr th {\n",
       "        vertical-align: top;\n",
       "    }\n",
       "\n",
       "    .dataframe thead th {\n",
       "        text-align: right;\n",
       "    }\n",
       "</style>\n",
       "<table border=\"1\" class=\"dataframe\">\n",
       "  <thead>\n",
       "    <tr style=\"text-align: right;\">\n",
       "      <th></th>\n",
       "      <th>Animal ID</th>\n",
       "      <th>Baseline</th>\n",
       "      <th>Treatment</th>\n",
       "      <th>Percentage change</th>\n",
       "    </tr>\n",
       "  </thead>\n",
       "  <tbody>\n",
       "    <tr>\n",
       "      <td>0</td>\n",
       "      <td>RD_1L</td>\n",
       "      <td>1.226065</td>\n",
       "      <td>0.155093</td>\n",
       "      <td>107.10</td>\n",
       "    </tr>\n",
       "    <tr>\n",
       "      <td>1</td>\n",
       "      <td>RD_1R</td>\n",
       "      <td>1.378134</td>\n",
       "      <td>0.185917</td>\n",
       "      <td>119.22</td>\n",
       "    </tr>\n",
       "    <tr>\n",
       "      <td>2</td>\n",
       "      <td>RD_2L</td>\n",
       "      <td>1.552269</td>\n",
       "      <td>1.402903</td>\n",
       "      <td>14.94</td>\n",
       "    </tr>\n",
       "    <tr>\n",
       "      <td>3</td>\n",
       "      <td>HFD_1L</td>\n",
       "      <td>0.452671</td>\n",
       "      <td>1.943784</td>\n",
       "      <td>-149.11</td>\n",
       "    </tr>\n",
       "    <tr>\n",
       "      <td>4</td>\n",
       "      <td>HFD_1R</td>\n",
       "      <td>0.507540</td>\n",
       "      <td>0.274328</td>\n",
       "      <td>23.32</td>\n",
       "    </tr>\n",
       "    <tr>\n",
       "      <td>5</td>\n",
       "      <td>HFD_0</td>\n",
       "      <td>0.280071</td>\n",
       "      <td>0.183845</td>\n",
       "      <td>9.62</td>\n",
       "    </tr>\n",
       "    <tr>\n",
       "      <td>6</td>\n",
       "      <td>HFD_2L</td>\n",
       "      <td>0.344310</td>\n",
       "      <td>0.560262</td>\n",
       "      <td>-21.60</td>\n",
       "    </tr>\n",
       "    <tr>\n",
       "      <td>7</td>\n",
       "      <td>HFD_2R</td>\n",
       "      <td>0.306980</td>\n",
       "      <td>0.334303</td>\n",
       "      <td>-2.73</td>\n",
       "    </tr>\n",
       "  </tbody>\n",
       "</table>\n",
       "</div>"
      ],
      "text/plain": [
       "  Animal ID  Baseline  Treatment  Percentage change\n",
       "0     RD_1L  1.226065   0.155093             107.10\n",
       "1     RD_1R  1.378134   0.185917             119.22\n",
       "2     RD_2L  1.552269   1.402903              14.94\n",
       "3    HFD_1L  0.452671   1.943784            -149.11\n",
       "4    HFD_1R  0.507540   0.274328              23.32\n",
       "5     HFD_0  0.280071   0.183845               9.62\n",
       "6    HFD_2L  0.344310   0.560262             -21.60\n",
       "7    HFD_2R  0.306980   0.334303              -2.73"
      ]
     },
     "execution_count": 12,
     "metadata": {},
     "output_type": "execute_result"
    }
   ],
   "source": [
    "summary"
   ]
  },
  {
   "cell_type": "code",
   "execution_count": 13,
   "metadata": {},
   "outputs": [],
   "source": [
    "saline_RD = summary.loc[(summary[\"Animal ID\"] == \"RD_2L\"), :]\n",
    "\n",
    "ba_RD = summary.loc[(summary[\"Animal ID\"] == \"RD_1L\") | (summary[\"Animal ID\"] == \"RD_1R\"), :]\n",
    "\n",
    "saline_HFD = summary.loc[(summary[\"Animal ID\"] == \"HFD_2L\") | (summary[\"Animal ID\"] == \"HFD_0\")]\n",
    "\n",
    "ba_HFD = summary.loc[(summary[\"Animal ID\"] == \"HFD_1L\") | (summary[\"Animal ID\"] == \"HFD_1R\")| \\\n",
    "                     (summary[\"Animal ID\"] == \"HFD_2R\") ]"
   ]
  },
  {
   "cell_type": "code",
   "execution_count": 14,
   "metadata": {},
   "outputs": [],
   "source": [
    "saline_RD_summary = round(saline_RD.mean(), 2)\n",
    "saline_HFD_summary = round(saline_HFD.mean(), 2)\n",
    "ba_RD_summary = round(ba_RD.mean(), 2)\n",
    "ba_HFD_summary = round(ba_HFD.mean(), 2)"
   ]
  },
  {
   "cell_type": "code",
   "execution_count": 15,
   "metadata": {},
   "outputs": [
    {
     "data": {
      "text/html": [
       "<div>\n",
       "<style scoped>\n",
       "    .dataframe tbody tr th:only-of-type {\n",
       "        vertical-align: middle;\n",
       "    }\n",
       "\n",
       "    .dataframe tbody tr th {\n",
       "        vertical-align: top;\n",
       "    }\n",
       "\n",
       "    .dataframe thead th {\n",
       "        text-align: right;\n",
       "    }\n",
       "</style>\n",
       "<table border=\"1\" class=\"dataframe\">\n",
       "  <thead>\n",
       "    <tr style=\"text-align: right;\">\n",
       "      <th></th>\n",
       "      <th>Animal ID</th>\n",
       "      <th>Baseline</th>\n",
       "      <th>Treatment</th>\n",
       "      <th>Percentage change</th>\n",
       "    </tr>\n",
       "  </thead>\n",
       "  <tbody>\n",
       "    <tr>\n",
       "      <td>2</td>\n",
       "      <td>RD_2L</td>\n",
       "      <td>1.552269</td>\n",
       "      <td>1.402903</td>\n",
       "      <td>14.94</td>\n",
       "    </tr>\n",
       "  </tbody>\n",
       "</table>\n",
       "</div>"
      ],
      "text/plain": [
       "  Animal ID  Baseline  Treatment  Percentage change\n",
       "2     RD_2L  1.552269   1.402903              14.94"
      ]
     },
     "execution_count": 15,
     "metadata": {},
     "output_type": "execute_result"
    }
   ],
   "source": [
    "saline_RD"
   ]
  },
  {
   "cell_type": "code",
   "execution_count": 16,
   "metadata": {},
   "outputs": [
    {
     "data": {
      "text/plain": [
       "Text(0, 0.5, 'Percent Change (%)')"
      ]
     },
     "execution_count": 16,
     "metadata": {},
     "output_type": "execute_result"
    },
    {
     "data": {
      "image/png": "[encoded data removed]",
      "text/plain": [
       "<Figure size 720x216 with 1 Axes>"
      ]
     },
     "metadata": {
      "needs_background": "light"
     },
     "output_type": "display_data"
    },
    {
     "data": {
      "image/png": "[encoded data removed]",
      "text/plain": [
       "<Figure size 720x216 with 1 Axes>"
      ]
     },
     "metadata": {
      "needs_background": "light"
     },
     "output_type": "display_data"
    }
   ],
   "source": [
    "plt.figure(figsize=(10,3))\n",
    "plt.tight_layout()\n",
    "\n",
    "         \n",
    "plt.bar(saline_RD[\"Animal ID\"], saline_RD[\"Baseline\"], color=\"C0\", alpha=0.5)\n",
    "plt.bar(saline_RD[\"Animal ID\"], saline_RD[\"Treatment\"], color=\"C0\", alpha=0.5)\n",
    "plt.bar(ba_RD[\"Animal ID\"], ba_RD[\"Baseline\"], color=\"C0\", alpha=0.5)\n",
    "plt.bar(ba_RD[\"Animal ID\"], ba_RD[\"Treatment\"], color=\"C0\", alpha=0.5)\n",
    "plt.bar(saline_HFD[\"Animal ID\"], saline_HFD[\"Baseline\"], color=\"C3\", alpha=0.5)\n",
    "plt.bar(saline_HFD[\"Animal ID\"], saline_HFD[\"Treatment\"], color=\"C3\", alpha=0.5)\n",
    "plt.bar(ba_HFD[\"Animal ID\"], ba_HFD[\"Baseline\"], color=\"C3\", alpha=0.5)\n",
    "plt.bar(ba_HFD[\"Animal ID\"], ba_HFD[\"Treatment\"], color=\"C3\", alpha=0.5)\n",
    "\n",
    "# Formatting\n",
    "plt.title(\"VF\", fontsize=18, fontname=\"arial\")\n",
    "plt.xlabel(\"Animal ID\", fontsize=14, fontname=\"arial\")\n",
    "plt.ylabel(\"50% Withdrawal Threshold (g)\", fontsize=14, fontname=\"arial\")\n",
    "\n",
    "\n",
    "plt.figure(figsize=(10,3))\n",
    "plt.tight_layout()\n",
    "\n",
    "plt.axhline(0, color='k', alpha=0.75)\n",
    "\n",
    "plt.bar(saline_RD[\"Animal ID\"], saline_RD[\"Percentage change\"], color=\"C0\")\n",
    "plt.bar(ba_RD[\"Animal ID\"], ba_RD[\"Percentage change\"], color=\"C0\")\n",
    "plt.bar(saline_HFD[\"Animal ID\"], saline_HFD[\"Percentage change\"], color=\"C3\")\n",
    "plt.bar(ba_HFD[\"Animal ID\"], ba_HFD[\"Percentage change\"], color=\"C3\")\n",
    "plt.title(\"Percent Change\", fontsize=18, fontname=\"arial\")\n",
    "plt.xlabel(\"Animal ID\", fontsize=14, fontname=\"arial\")\n",
    "plt.ylabel(\"Percent Change (%)\", fontsize=14, fontname=\"arial\")\n",
    "\n",
    "\n"
   ]
  },
  {
   "cell_type": "code",
   "execution_count": 17,
   "metadata": {},
   "outputs": [
    {
     "data": {
      "text/plain": [
       "<Figure size 432x288 with 0 Axes>"
      ]
     },
     "metadata": {},
     "output_type": "display_data"
    },
    {
     "data": {
      "image/png": "[encoded data removed]",
      "text/plain": [
       "<Figure size 432x288 with 1 Axes>"
      ]
     },
     "metadata": {
      "needs_background": "light"
     },
     "output_type": "display_data"
    }
   ],
   "source": [
    "## combine these different collections into a list\n",
    "plt.tight_layout()\n",
    "data_to_plot = [saline_RD[\"Percentage change\"], ba_RD[\"Percentage change\"], saline_HFD[\"Percentage change\"], ba_HFD[\"Percentage change\"]]\n",
    "\n",
    "fig = plt.figure()\n",
    "# Create an axes instance\n",
    "ax = fig.add_axes([0,0,1,1])\n",
    "labels = [\"RD-Saline\", \"RD-Beta-alanine\", \"HFD-Saline\", \"HFD-Beta-alanine\"]\n",
    "# Create the boxplot\n",
    "bp = ax.boxplot(data_to_plot, patch_artist=True, labels=labels, boxprops=dict(facecolor=\"C0\"))\n",
    "plt.title(\"Percent Change\", fontsize=18, fontname=\"arial\")\n",
    "plt.ylabel(\"Percent Change (%)\", fontsize=14, fontname=\"arial\")\n",
    "\n",
    "plt.show()\n"
   ]
  },
  {
   "cell_type": "code",
   "execution_count": 18,
   "metadata": {},
   "outputs": [
    {
     "data": {
      "image/png": "[encoded data removed]",
      "text/plain": [
       "<Figure size 504x216 with 1 Axes>"
      ]
     },
     "metadata": {
      "needs_background": "light"
     },
     "output_type": "display_data"
    }
   ],
   "source": [
    "## combine these different collections into a list\n",
    "data_to_plot = [saline_RD[\"Percentage change\"], ba_RD[\"Percentage change\"]]\n",
    "data_to_plot_2 = [saline_HFD[\"Percentage change\"], ba_HFD[\"Percentage change\"]]\n",
    "\n",
    "fig = plt.figure(figsize=(7,3))\n",
    "# Create an axes instance\n",
    "ax = fig.add_axes([0,0,1,1])\n",
    "labels_1 = [\"RD-Saline\", \"RD-Beta-alanine\"]\n",
    "labels_2 = [\"HFD-Saline\", \"HFD-Beta-alanine\"]\n",
    "\n",
    "# Create the boxplot\n",
    "bp = ax.boxplot(data_to_plot, positions=[0.5,1], patch_artist=True, boxprops=dict(facecolor=\"C0\"), labels=labels_1, medianprops=dict(color=\"orange\"))\n",
    "bp = ax.boxplot(data_to_plot_2, positions=[1.5,2], patch_artist=True, boxprops=dict(facecolor=\"C3\"), labels=labels_2, medianprops=dict(color=\"orange\"))\n",
    "plt.title(\"Percent Change\", fontsize=18, fontname=\"arial\")\n",
    "plt.ylabel(\"Percent Change (%)\", fontsize=14, fontname=\"arial\")\n",
    "\n",
    "plt.savefig(\"Percent Change\", dpi=300)\n",
    "plt.show()"
   ]
  },
  {
   "cell_type": "code",
   "execution_count": 19,
   "metadata": {},
   "outputs": [],
   "source": [
    "treatment_summary = pd.DataFrame({\"RD_Saline\":  saline_RD_summary,\n",
    "                                  \"RD_Beta-alanine\":  ba_RD_summary,\n",
    "                                  \"HFD_Saline\": saline_HFD_summary,\n",
    "                                  \"HFD_Beta-alanine\": ba_HFD_summary})\n",
    "treatment_summary = treatment_summary.transpose().reset_index().rename(columns={\"index\": \"Average\"})"
   ]
  },
  {
   "cell_type": "code",
   "execution_count": 20,
   "metadata": {},
   "outputs": [
    {
     "data": {
      "text/html": [
       "<div>\n",
       "<style scoped>\n",
       "    .dataframe tbody tr th:only-of-type {\n",
       "        vertical-align: middle;\n",
       "    }\n",
       "\n",
       "    .dataframe tbody tr th {\n",
       "        vertical-align: top;\n",
       "    }\n",
       "\n",
       "    .dataframe thead th {\n",
       "        text-align: right;\n",
       "    }\n",
       "</style>\n",
       "<table border=\"1\" class=\"dataframe\">\n",
       "  <thead>\n",
       "    <tr style=\"text-align: right;\">\n",
       "      <th></th>\n",
       "      <th>Average</th>\n",
       "      <th>Baseline</th>\n",
       "      <th>Treatment</th>\n",
       "      <th>Percentage change</th>\n",
       "    </tr>\n",
       "  </thead>\n",
       "  <tbody>\n",
       "    <tr>\n",
       "      <td>0</td>\n",
       "      <td>RD_Saline</td>\n",
       "      <td>1.55</td>\n",
       "      <td>1.40</td>\n",
       "      <td>14.94</td>\n",
       "    </tr>\n",
       "    <tr>\n",
       "      <td>1</td>\n",
       "      <td>RD_Beta-alanine</td>\n",
       "      <td>1.30</td>\n",
       "      <td>0.17</td>\n",
       "      <td>113.16</td>\n",
       "    </tr>\n",
       "    <tr>\n",
       "      <td>2</td>\n",
       "      <td>HFD_Saline</td>\n",
       "      <td>0.31</td>\n",
       "      <td>0.37</td>\n",
       "      <td>-5.99</td>\n",
       "    </tr>\n",
       "    <tr>\n",
       "      <td>3</td>\n",
       "      <td>HFD_Beta-alanine</td>\n",
       "      <td>0.42</td>\n",
       "      <td>0.85</td>\n",
       "      <td>-42.84</td>\n",
       "    </tr>\n",
       "  </tbody>\n",
       "</table>\n",
       "</div>"
      ],
      "text/plain": [
       "            Average  Baseline  Treatment  Percentage change\n",
       "0         RD_Saline      1.55       1.40              14.94\n",
       "1   RD_Beta-alanine      1.30       0.17             113.16\n",
       "2        HFD_Saline      0.31       0.37              -5.99\n",
       "3  HFD_Beta-alanine      0.42       0.85             -42.84"
      ]
     },
     "execution_count": 20,
     "metadata": {},
     "output_type": "execute_result"
    }
   ],
   "source": [
    "treatment_summary"
   ]
  },
  {
   "cell_type": "code",
   "execution_count": 21,
   "metadata": {},
   "outputs": [],
   "source": [
    "with pd.ExcelWriter('Exp_256_VF_output.xlsx') as writer:\n",
    "    summary.to_excel(writer, sheet_name='summary.csv', index=False)\n",
    "    saline_RD.to_excel(writer, sheet_name='RD_saline.csv', index=False)\n",
    "    ba_RD.to_excel(writer, sheet_name='RD_ba.csv', index=False)\n",
    "    saline_HFD.to_excel(writer, sheet_name='HFD_saline.csv', index=False)\n",
    "    ba_HFD.to_excel(writer, sheet_name='HFD_ba.csv', index=False)\n",
    "    treatment_summary.to_excel(writer, sheet_name='treatment_summary', index=False)"
   ]
  }
 ],
 "metadata": {
  "kernelspec": {
   "display_name": "Python 3",
   "language": "python",
   "name": "python3"
  },
  "language_info": {
   "codemirror_mode": {
    "name": "ipython",
    "version": 3
   },
   "file_extension": ".py",
   "mimetype": "text/x-python",
   "name": "python",
   "nbconvert_exporter": "python",
   "pygments_lexer": "ipython3",
   "version": "3.7.4"
  }
 },
 "nbformat": 4,
 "nbformat_minor": 2
}
