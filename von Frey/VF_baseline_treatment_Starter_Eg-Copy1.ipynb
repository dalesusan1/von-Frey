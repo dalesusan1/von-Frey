{
 "cells": [
  {
   "cell_type": "code",
   "execution_count": 1,
   "metadata": {},
   "outputs": [],
   "source": [
    "import numpy as np\n",
    "import matplotlib.pyplot as plt\n",
    "from scipy.stats import linregress\n",
    "import scipy.optimize as optimize\n",
    "import pandas as pd\n",
    "import seaborn as sns"
   ]
  },
  {
   "cell_type": "code",
   "execution_count": 2,
   "metadata": {},
   "outputs": [],
   "source": [
    "#No editing needed\n",
    "force = np.array([0.04, 0.07, 0.16, 0.4, 0.6, 1, 1.4, 2, 4, 6]) #values from column A in the excel\n",
    "Vmax = 100\n",
    "Km_predicted = 1"
   ]
  },
  {
   "cell_type": "code",
   "execution_count": 3,
   "metadata": {},
   "outputs": [],
   "source": [
    "def Total_count(*x):\n",
    "    animal_id = input(\"Animal ID: \")\n",
    "    print(\"*\"*12)\n",
    "    new = []\n",
    "    count = 1\n",
    "    while count <= 10:\n",
    "        user = int(input(\"total hits: \" ))\n",
    "        if user >= 0:\n",
    "            count = count+1\n",
    "            new.append(user)\n",
    "    print(\"*\"*12)\n",
    "    return new"
   ]
  },
  {
   "cell_type": "code",
   "execution_count": 4,
   "metadata": {},
   "outputs": [],
   "source": [
    "#Defining functions\n",
    "\n",
    "def Ascend(x):\n",
    "    '''ascend(x) returns values if the number of hits for the different filaments is in ascending order'''\n",
    "    if x[0] <= x[1] <= x[2] <= x[3] <= x[4] <= x[5] <= x[6] <= x[7] <= x[8] <= x[9]:\n",
    "        return(x)\n",
    "    \n",
    "    else:\n",
    "        x[9] = 6\n",
    "        x[0] = np.floor((x[0]+x[1])/2)\n",
    "        x[1] = np.floor((x[1]+x[2])/2)\n",
    "        x[2] = np.floor((x[2]+x[3])/2)\n",
    "        x[3] = np.floor((x[3]+x[4])/2)\n",
    "        x[4] = np.floor((x[4]+x[5])/2)\n",
    "        x[5] = np.floor((x[5]+x[6])/2)\n",
    "        x[6] = np.floor((x[6]+x[7])/2)\n",
    "        x[7] = np.floor((x[7]+x[8])/2)\n",
    "        x[8] = np.floor((x[8]+x[9])/2)\n",
    "        return(x)"
   ]
  },
  {
   "cell_type": "code",
   "execution_count": 5,
   "metadata": {},
   "outputs": [],
   "source": [
    "def Per_Tot(x):\n",
    "    per_tot = [round((x*100)/6,2) for x in x]\n",
    "    return per_tot"
   ]
  },
  {
   "cell_type": "code",
   "execution_count": 6,
   "metadata": {},
   "outputs": [
    {
     "name": "stdout",
     "output_type": "stream",
     "text": [
      "total hits: 0\n",
      "total hits: 0\n",
      "total hits: 0\n",
      "total hits: 0\n",
      "total hits: 2\n",
      "total hits: 3\n",
      "total hits: 3\n",
      "total hits: 4\n",
      "total hits: 5\n",
      "total hits: 6\n",
      "************\n",
      "total hits: 0\n",
      "total hits: 0\n",
      "total hits: 0\n",
      "total hits: 0\n",
      "total hits: 1\n",
      "total hits: 2\n",
      "total hits: 3\n",
      "total hits: 5\n",
      "total hits: 6\n",
      "total hits: 6\n",
      "************\n",
      "total hits: 0\n",
      "total hits: 2\n",
      "total hits: 5\n",
      "total hits: 6\n",
      "total hits: 6\n",
      "total hits: 6\n",
      "total hits: 6\n",
      "total hits: 6\n",
      "total hits: 6\n",
      "total hits: 6\n",
      "************\n",
      "total hits: 0\n",
      "total hits: 2\n",
      "total hits: 5\n",
      "total hits: 6\n",
      "total hits: 6\n",
      "total hits: 6\n",
      "total hits: 6\n",
      "total hits: 6\n",
      "total hits: 6\n",
      "total hits: 6\n",
      "************\n",
      "total hits: 0\n",
      "total hits: 2\n",
      "total hits: 5\n",
      "total hits: 6\n",
      "total hits: 6\n",
      "total hits: 6\n",
      "total hits: 6\n",
      "total hits: 6\n",
      "total hits: 6\n",
      "total hits: 6\n",
      "************\n",
      "total hits: 0\n",
      "total hits: 2\n",
      "total hits: 5\n",
      "total hits: 6\n",
      "total hits: 6\n",
      "total hits: 6\n",
      "total hits: 6\n",
      "total hits: 6\n",
      "total hits: 6\n",
      "total hits: 6\n",
      "************\n",
      "total hits: 0\n",
      "total hits: 0\n",
      "total hits: 0\n",
      "total hits: 0\n",
      "total hits: 3\n",
      "total hits: 2\n",
      "total hits: 3\n",
      "total hits: 4\n",
      "total hits: 6\n",
      "total hits: 6\n",
      "************\n",
      "total hits: 0\n",
      "total hits: 0\n",
      "total hits: 0\n",
      "total hits: 0\n",
      "total hits: 2\n",
      "total hits: 3\n",
      "total hits: 3\n",
      "total hits: 5\n",
      "total hits: 6\n",
      "total hits: 6\n",
      "************\n",
      "total hits: 2\n",
      "total hits: 3\n",
      "total hits: 5\n",
      "total hits: 6\n",
      "total hits: 6\n",
      "total hits: 6\n",
      "total hits: 6\n",
      "total hits: 6\n",
      "total hits: 6\n",
      "total hits: 6\n",
      "************\n",
      "total hits: 0\n",
      "total hits: 2\n",
      "total hits: 5\n",
      "total hits: 6\n",
      "total hits: 6\n",
      "total hits: 6\n",
      "total hits: 6\n",
      "total hits: 6\n",
      "total hits: 6\n",
      "total hits: 6\n",
      "************\n",
      "total hits: 1\n",
      "total hits: 3\n",
      "total hits: 5\n",
      "total hits: 6\n",
      "total hits: 6\n",
      "total hits: 6\n",
      "total hits: 6\n",
      "total hits: 6\n",
      "total hits: 6\n",
      "total hits: 6\n",
      "************\n",
      "total hits: 1\n",
      "total hits: 3\n",
      "total hits: 6\n",
      "total hits: 6\n",
      "total hits: 6\n",
      "total hits: 6\n",
      "total hits: 6\n",
      "total hits: 6\n",
      "total hits: 6\n",
      "total hits: 6\n",
      "************\n"
     ]
    }
   ],
   "source": [
    "#Enter the total value for each corresponding force for each animal (RD_2R, HFD_0 refers to the animal ID, two different examples to try the code)\n",
    "# The list is basically the numbers from column H in the excel sheet - the total\n",
    "RD_1L = [0,0,0,1,1,3,3,4,5,6]\n",
    "RD_1R = [0,0,2,2,5,5,6,6,6,6]\n",
    "RD_0  = [0,0,1,2,3,3,3,4,5,6]\n",
    "RD_2L = [0,0,0,0,2,1,3,5,6,6]\n",
    "RD_2R = [0,0,0,1,2,4,4,5,6,6]\n",
    "\n",
    "HFD_1L = [0,2,4,6,6,6,6,6,6,6]\n",
    "HFD_1R = [0,0,2,6,6,6,6,6,6,6]\n",
    "HFD_0 =  [1,3,4,6,6,6,6,6,6,6]\n",
    "HFD_2L = [0,1,3,6,6,6,6,6,6,6]\n",
    "HFD_2R = [0,2,4,5,5,6,6,6,6,6]\n",
    "\n",
    "\n",
    "##### After treatment(_t) (eg: Saline or Beta-alanine)\n",
    "\n",
    "RD_1L_t = [0,1,2,5,3,5,4,6,6,6] #BA\n",
    "# RD_1R_t = [] # No injection\n",
    "RD_0_t =  [3,5,4,6,6,6,6,6,6,6] #Saline\n",
    "RD_2L_t = [1,4,3,6,5,6,6,6,6,6] #BA\n",
    "RD_2R_t = [2,5,6,5,6,6,6,6,6,6] #Saline\n",
    "\n",
    "\n",
    "# HFD_1L_t = [0,0,3,2,3,1,0,1,6,6]\n",
    "# HFD_1R_t = [0,0,3,5,1,4,6,6,6,6]\n",
    "# HFD_0_t =  [0,0,3,5,4,4,6,6,6,6]\n",
    "# HFD_2L_t = [0,0,1,2,3,3,5,6,6,6]\n",
    "# HFD_2R_t = [0,0,3,3,3,4,6,6,6,6]\n"
   ]
  },
  {
   "cell_type": "code",
   "execution_count": 7,
   "metadata": {},
   "outputs": [
    {
     "data": {
      "text/plain": [
       "[1, 3, 6, 6, 6, 6, 6, 6, 6, 6]"
      ]
     },
     "execution_count": 7,
     "metadata": {},
     "output_type": "execute_result"
    }
   ],
   "source": [
    "Ascend(RD_1L)\n",
    "Ascend(RD_1R)\n",
    "Ascend(RD_2L)\n",
    "Ascend(RD_2R)\n",
    "Ascend(RD_0)\n",
    "\n",
    "\n",
    "Ascend(HFD_1L)\n",
    "Ascend(HFD_1R)\n",
    "Ascend(HFD_2L)\n",
    "Ascend(HFD_2R)\n",
    "Ascend(HFD_0)\n",
    "\n",
    "###After treatment\n",
    "\n",
    "Ascend(RD_1L_t)\n",
    "Ascend(RD_1R_t)\n",
    "Ascend(RD_2L_t)\n",
    "Ascend(RD_2R_t)\n",
    "Ascend(RD_0_t)\n",
    "\n",
    "Ascend(HFD_1L_t)\n",
    "Ascend(HFD_1R_t)\n",
    "Ascend(HFD_2L_t)\n",
    "Ascend(HFD_2R_t)\n",
    "Ascend(HFD_0_t)\n",
    "\n"
   ]
  },
  {
   "cell_type": "code",
   "execution_count": 8,
   "metadata": {},
   "outputs": [],
   "source": [
    "RD_1L = Per_Tot(RD_1L)\n",
    "RD_1R = Per_Tot(RD_1R)\n",
    "RD_2L = Per_Tot(RD_2L)\n",
    "RD_2L = Per_Tot(RD_2R)\n",
    "RD_0 = Per_Tot(RD_0)\n",
    "\n",
    "\n",
    "HFD_1L = Per_Tot(HFD_1L)\n",
    "HFD_1R = Per_Tot(HFD_1R)\n",
    "HFD_2L = Per_Tot(HFD_2L)\n",
    "HFD_2R = Per_Tot(HFD_2R)\n",
    "HFD_0 = Per_Tot(HFD_0)\n",
    "\n",
    "\n",
    "\n",
    "###After treatment\n",
    "\n",
    "\n",
    "RD_1L_t = Per_Tot(RD_1L_t)\n",
    "RD_1R_t = Per_Tot(RD_1R_t)\n",
    "RD_2L_t = Per_Tot(RD_2L_t)\n",
    "RD_2R_t = Per_Tot(RD_2R_t)\n",
    "RD_0_t = Per_Tot(RD_0_t)\n",
    "\n",
    "\n",
    "HFD_1L_t = Per_Tot(HFD_1L_t)\n",
    "HFD_1R_t = Per_Tot(HFD_1R_t)\n",
    "HFD_2L_t = Per_Tot(HFD_2L_t)\n",
    "HFD_2R_t = Per_Tot(HFD_2R_t)\n",
    "HFD_0_t = Per_Tot(HFD_0_t)\n",
    "\n"
   ]
  },
  {
   "cell_type": "code",
   "execution_count": 9,
   "metadata": {},
   "outputs": [
    {
     "data": {
      "text/plain": [
       "24444.26760466775"
      ]
     },
     "execution_count": 9,
     "metadata": {},
     "output_type": "execute_result"
    }
   ],
   "source": [
    "#Enter the first argument in the lambda function\n",
    "\n",
    "RD_1L_Vest = lambda Km: ((RD_1L - Vmax*force/(Km + force))**2).sum()\n",
    "RD_1R_Vest = lambda Km: ((RD_1R - Vmax*force/(Km + force))**2).sum()\n",
    "RD_2L_Vest = lambda Km: ((RD_2L - Vmax*force/(Km + force))**2).sum()\n",
    "RD_2R_Vest = lambda Km: ((RD_2R - Vmax*force/(Km + force))**2).sum()\n",
    "RD_0_Vest = lambda Km: ((RD_0 - Vmax*force/(Km + force))**2).sum()\n",
    "\n",
    "\n",
    "HFD_1L_Vest = lambda Km: ((HFD_1L - Vmax*force/(Km + force))**2).sum()\n",
    "HFD_1R_Vest = lambda Km: ((HFD_1R - Vmax*force/(Km + force))**2).sum()\n",
    "HFD_2L_Vest = lambda Km: ((HFD_2L - Vmax*force/(Km + force))**2).sum()\n",
    "HFD_2R_Vest = lambda Km: ((HFD_2R - Vmax*force/(Km + force))**2).sum()\n",
    "HFD_0_Vest = lambda Km: ((HFD_0 - Vmax*force/(Km + force))**2).sum()\n",
    "\n",
    "\n",
    "\n",
    "RD_1L_Vest(1)\n",
    "RD_1R_Vest(1)\n",
    "RD_2L_Vest(1)\n",
    "RD_2R_Vest(1)           \n",
    "RD_0_Vest(1)\n",
    "\n",
    "\n",
    "HFD_1L_Vest(1)\n",
    "HFD_1R_Vest(1)\n",
    "HFD_2L_Vest(1)\n",
    "HFD_2R_Vest(1)\n",
    "HFD_0_Vest(1)\n",
    "\n",
    "\n",
    "\n",
    "###After treatment\n",
    "\n",
    "RD_1L_t_Vest = lambda Km: ((RD_1L_t - Vmax*force/(Km + force))**2).sum()\n",
    "RD_1R_t_Vest = lambda Km: ((RD_1R_t - Vmax*force/(Km + force))**2).sum()\n",
    "RD_2L_t_Vest = lambda Km: ((RD_2L_t - Vmax*force/(Km + force))**2).sum()\n",
    "RD_2R_t_Vest = lambda Km: ((RD_2R_t - Vmax*force/(Km + force))**2).sum()\n",
    "RD_0_t_Vest = lambda Km: ((RD_0_t - Vmax*force/(Km + force))**2).sum()\n",
    "\n",
    "\n",
    "HFD_1L_t_Vest = lambda Km: ((HFD_1L_t - Vmax*force/(Km + force))**2).sum()\n",
    "HFD_1R_t_Vest = lambda Km: ((HFD_1R_t - Vmax*force/(Km + force))**2).sum()\n",
    "HFD_2L_t_Vest = lambda Km: ((HFD_2L_t - Vmax*force/(Km + force))**2).sum()\n",
    "HFD_2R_t_Vest = lambda Km: ((HFD_2R_t - Vmax*force/(Km + force))**2).sum()\n",
    "HFD_0_t_Vest = lambda Km: ((HFD_0_t - Vmax*force/(Km + force))**2).sum()\n",
    "\n",
    "\n",
    "\n",
    "RD_1L_t_Vest(1)\n",
    "RD_1R_t_Vest(1)\n",
    "RD_2L_t_Vest(1)\n",
    "RD_2R_t_Vest(1)\n",
    "RD_0_t_Vest(1)\n",
    "\n",
    "\n",
    "HFD_1L_t_Vest(1)\n",
    "HFD_1R_t_Vest(1)\n",
    "HFD_2L_t_Vest(1)\n",
    "HFD_2R_t_Vest(1)\n",
    "HFD_0_t_Vest(1)\n",
    "\n"
   ]
  },
  {
   "cell_type": "code",
   "execution_count": 10,
   "metadata": {},
   "outputs": [],
   "source": [
    "RD_1L_Km_p = optimize.minimize(RD_1L_Vest,Km_predicted,bounds=[[0,np.inf]],method='L-BFGS-B')\n",
    "RD_1R_Km_p = optimize.minimize(RD_1R_Vest,Km_predicted,bounds=[[0,np.inf]],method='L-BFGS-B')\n",
    "RD_2L_Km_p = optimize.minimize(RD_2L_Vest,Km_predicted,bounds=[[0,np.inf]],method='L-BFGS-B')\n",
    "RD_2R_Km_p = optimize.minimize(RD_2R_Vest,Km_predicted,bounds=[[0,np.inf]],method='L-BFGS-B')\n",
    "RD_0_Km_p = optimize.minimize(RD_0_Vest,Km_predicted,bounds=[[0,np.inf]],method='L-BFGS-B')\n",
    "\n",
    "\n",
    "HFD_1L_Km_p = optimize.minimize(HFD_1L_Vest,Km_predicted,bounds=[[0,np.inf]],method='L-BFGS-B')\n",
    "HFD_1R_Km_p = optimize.minimize(HFD_1R_Vest,Km_predicted,bounds=[[0,np.inf]],method='L-BFGS-B')\n",
    "HFD_2L_Km_p = optimize.minimize(HFD_2L_Vest,Km_predicted,bounds=[[0,np.inf]],method='L-BFGS-B')\n",
    "HFD_2R_Km_p = optimize.minimize(HFD_2R_Vest,Km_predicted,bounds=[[0,np.inf]],method='L-BFGS-B')\n",
    "HFD_0_Km_p = optimize.minimize(HFD_0_Vest,Km_predicted,bounds=[[0,np.inf]],method='L-BFGS-B')\n",
    "\n",
    "\n",
    "RD_1L_Km = RD_1L_Km_p.x\n",
    "RD_1R_Km = RD_1R_Km_p.x\n",
    "RD_2L_Km = RD_2L_Km_p.x\n",
    "RD_2R_Km = RD_2R_Km_p.x\n",
    "RD_0_Km =  RD_0_Km_p.x\n",
    "\n",
    "\n",
    "HFD_1L_Km = HFD_1L_Km_p.x\n",
    "HFD_1R_Km = HFD_1R_Km_p.x\n",
    "HFD_2L_Km = HFD_2L_Km_p.x\n",
    "HFD_2R_Km = HFD_2R_Km_p.x\n",
    "HFD_0_Km =  HFD_0_Km_p.x\n",
    "\n",
    "\n",
    "\n",
    "###After treatment\n",
    "RD_1L_t_Km_p = optimize.minimize(RD_1L_t_Vest,Km_predicted,bounds=[[0,np.inf]],method='L-BFGS-B')\n",
    "RD_1R_t_Km_p = optimize.minimize(RD_1R_t_Vest,Km_predicted,bounds=[[0,np.inf]],method='L-BFGS-B')\n",
    "RD_2L_t_Km_p = optimize.minimize(RD_2L_t_Vest,Km_predicted,bounds=[[0,np.inf]],method='L-BFGS-B')\n",
    "RD_2R_t_Km_p = optimize.minimize(RD_2R_t_Vest,Km_predicted,bounds=[[0,np.inf]],method='L-BFGS-B')\n",
    "RD_0_t_Km_p = optimize.minimize(RD_0_t_Vest,Km_predicted,bounds=[[0,np.inf]],method='L-BFGS-B')\n",
    "\n",
    "\n",
    "HFD_1L_t_Km_p = optimize.minimize(HFD_1L_t_Vest,Km_predicted,bounds=[[0,np.inf]],method='L-BFGS-B')\n",
    "HFD_1R_t_Km_p = optimize.minimize(HFD_1R_t_Vest,Km_predicted,bounds=[[0,np.inf]],method='L-BFGS-B')\n",
    "HFD_2L_t_Km_p = optimize.minimize(HFD_2L_t_Vest,Km_predicted,bounds=[[0,np.inf]],method='L-BFGS-B')\n",
    "HFD_2R_t_Km_p = optimize.minimize(HFD_2R_t_Vest,Km_predicted,bounds=[[0,np.inf]],method='L-BFGS-B')\n",
    "HFD_0_t_Km_p = optimize.minimize(HFD_0_t_Vest,Km_predicted,bounds=[[0,np.inf]],method='L-BFGS-B')\n",
    "\n",
    "\n",
    "RD_1L_t_Km = RD_1L_t_Km_p.x\n",
    "RD_1R_t_Km = RD_1R_t_Km_p.x\n",
    "RD_2L_t_Km = RD_2L_t_Km_p.x\n",
    "RD_2R_t_Km = RD_2R_t_Km_p.x\n",
    "RD_0_t_Km =  RD_0_t_Km_p.x\n",
    "\n",
    "\n",
    "HFD_1L_t_Km = HFD_1L_t_Km_p.x\n",
    "HFD_1R_t_Km = HFD_1R_t_Km_p.x\n",
    "HFD_2L_t_Km = HFD_2L_t_Km_p.x\n",
    "HFD_2R_t_Km = HFD_2R_t_Km_p.x\n",
    "HFD_0_t_Km =  HFD_0_t_Km_p.x\n",
    "\n"
   ]
  },
  {
   "cell_type": "markdown",
   "metadata": {},
   "source": [
    "## Graphing "
   ]
  },
  {
   "cell_type": "code",
   "execution_count": 11,
   "metadata": {},
   "outputs": [],
   "source": [
    "# Creating dataframe for graphing individual animals\n",
    "summary_1 = pd.DataFrame({\"RD_1L_baseline\": [RD_1L_Km[0]],\n",
    "                          \"RD_1L_betaalanine\": [RD_1L_t_Km[0]],\n",
    "                          \"RD_2L_baseline\": [RD_2L_Km[0]],\n",
    "                          \"RD_2L_betaalanine\": [RD_2L_t_Km[0]],\n",
    "                          \"RD_2R_baseline\": [RD_2R_Km[0]],\n",
    "                          \"RD_2R_saline\": [RD_2R_t_Km[0]],\n",
    "                          \"RD_0_baseline\": [RD_0_Km[0]],\n",
    "                          \"RD_0_saline\": [RD_0_t_Km[0]],\n",
    "#                           \"HFD_1L_baseline\": [HFD_1L_Km[0]],\n",
    "#                           \"HFD_1L_saline\": [HFD_1L_t_Km[0]],\n",
    "#                           \"HFD_0_baseline\": [HFD_0_Km[0]],\n",
    "#                           \"HFD_0_saline\":  [HFD_0_t_Km[0]],\n",
    "#                           \"HFD_1R_baseline\": [HFD_1R_Km[0]],\n",
    "#                           \"HFD_1R_CNO\": [HFD_1R_t_Km[0]],\n",
    "#                           \"HFD_2L_baseline\": [HFD_2L_Km[0]],\n",
    "#                           \"HFD_2L_CNO\": [HFD_2L_t_Km[0]]})\n",
    "summary_1 = summary_1.transpose().reset_index().rename(columns={\"index\": \"Animal ID\", 0: \"Withdrawal Threshold\"})\n",
    "summary_1"
   ]
  },
  {
   "cell_type": "code",
   "execution_count": 48,
   "metadata": {},
   "outputs": [
    {
     "data": {
      "text/plain": [
       "<BarContainer object of 12 artists>"
      ]
     },
     "execution_count": 48,
     "metadata": {},
     "output_type": "execute_result"
    },
    {
     "data": {
      "image/png": "[encoded data removed]",
      "text/plain": [
       "<Figure size 1440x360 with 1 Axes>"
      ]
     },
     "metadata": {
      "needs_background": "light"
     },
     "output_type": "display_data"
    }
   ],
   "source": [
    "# Graphing individual animals\n",
    "\n",
    "#Layout\n",
    "plt.figure(figsize=(20,5))\n",
    "plt.tight_layout()\n",
    "color = [\"navy\", \"deepskyblue\", \"navy\", \"deepskyblue\", \"C3\", \"lightcoral\", \"C3\", \"lightcoral\", \"C3\", \"lightcoral\", \"C3\", \"lightcoral\"]         \n",
    "\n",
    "# Formatting\n",
    "plt.title(\"VF\", fontsize=18, fontname=\"arial\")\n",
    "plt.xlabel(\"Animal ID\", fontsize=14, fontname=\"arial\")\n",
    "plt.ylabel(\"50% Withdrawal Threshold (g)\", fontsize=18, fontname=\"arial\")\n",
    "plt.xticks(rotation=45, fontsize=14)\n",
    "plt.yticks(fontsize=14)\n",
    "plt.ylim(0, 1.5)\n",
    "plt.xlim(-0.5, len(summary_1[\"Withdrawal Threshold\"])-0.5)\n",
    "\n",
    "#Graphing\n",
    "plt.bar(summary_1[\"Animal ID\"], summary_1[\"Withdrawal Threshold\"], color=color, alpha=0.90)"
   ]
  },
  {
   "cell_type": "code",
   "execution_count": 14,
   "metadata": {},
   "outputs": [],
   "source": [
    "# Creating dataframe for graphing baseline vs treatment\n",
    "summary = pd.DataFrame({\"RD_1R\":  [RD_1R_Km[0],RD_1R_t_Km[0]],\n",
    "                        \"RD_0\":   [RD_0_Km[0],RD_0_t_Km[0]],\n",
    "                        \"HFD_1L\": [HFD_1L_Km[0],HFD_1L_t_Km[0]],\n",
    "                        \"HFD_1R\": [HFD_1R_Km[0],HFD_1R_t_Km[0]],\n",
    "                        \"HFD_0\":  [HFD_0_Km[0], HFD_0_t_Km[0]],\n",
    "                        \"HFD_2L\": [HFD_2L_Km[0], HFD_2L_t_Km[0]]})\n",
    "\n",
    "summary = summary.transpose().reset_index().rename(columns={\"index\": \"Animal ID\", 0: \"Baseline\", 1: \"Treatment\"})\n",
    "\n",
    "#Calculating percentage change (normalizing to baseline)\n",
    "summary[\"Percentage change\"] = round((summary[\"Baseline\"] - summary[\"Treatment\"])*100, 2)\n",
    "summary"
   ]
  },
  {
   "cell_type": "code",
   "execution_count": 49,
   "metadata": {},
   "outputs": [
    {
     "data": {
      "text/plain": [
       "(0, 1.5)"
      ]
     },
     "execution_count": 49,
     "metadata": {},
     "output_type": "execute_result"
    },
    {
     "data": {
      "image/png": "[encoded data removed]",
      "text/plain": [
       "<Figure size 720x216 with 1 Axes>"
      ]
     },
     "metadata": {
      "needs_background": "light"
     },
     "output_type": "display_data"
    },
    {
     "data": {
      "image/png": "[encoded data removed]",
      "text/plain": [
       "<Figure size 720x216 with 1 Axes>"
      ]
     },
     "metadata": {
      "needs_background": "light"
     },
     "output_type": "display_data"
    }
   ],
   "source": [
    "#Baseline\n",
    "\n",
    "plt.figure(figsize=(10,3))\n",
    "plt.tight_layout()\n",
    "\n",
    "plt.bar(saline_RD[\"Animal ID\"], saline_RD[\"Baseline\"], color=\"C0\")\n",
    "plt.bar(ba_RD[\"Animal ID\"], ba_RD[\"Baseline\"], color=\"C0\")\n",
    "plt.bar(saline_HFD[\"Animal ID\"], saline_HFD[\"Baseline\"], color=\"C3\")\n",
    "plt.bar(ba_HFD[\"Animal ID\"], ba_HFD[\"Baseline\"], color=\"C3\")\n",
    "\n",
    "# Formatting\n",
    "plt.title(\"Baseline\", fontsize=18, fontname=\"arial\")\n",
    "plt.xlabel(\"Animal ID\", fontsize=14, fontname=\"arial\")\n",
    "plt.ylabel(\"50% Withdrawal Threshold (g)\", fontsize=14, fontname=\"arial\")\n",
    "plt.ylim(0, 1.5)\n",
    "\n",
    "##########################################################################\n",
    "\n",
    "#Treatment\n",
    "plt.figure(figsize=(10,3))\n",
    "plt.tight_layout()\n",
    "\n",
    "plt.bar(saline_RD[\"Animal ID\"], saline_RD[\"Treatment\"], color=\"C0\")\n",
    "plt.bar(ba_RD[\"Animal ID\"], ba_RD[\"Treatment\"], color=\"C0\")\n",
    "plt.bar(saline_HFD[\"Animal ID\"], saline_HFD[\"Treatment\"], color=\"C3\")\n",
    "plt.bar(ba_HFD[\"Animal ID\"], ba_HFD[\"Treatment\"], color=\"C3\")\n",
    "\n",
    "# Formatting\n",
    "plt.title(\"Treatment\", fontsize=18, fontname=\"arial\")\n",
    "plt.xlabel(\"Animal ID\", fontsize=14, fontname=\"arial\")\n",
    "plt.ylabel(\"50% Withdrawal Threshold (g)\", fontsize=14, fontname=\"arial\")\n",
    "plt.ylim(0, 1.5)\n"
   ]
  },
  {
   "cell_type": "code",
   "execution_count": 53,
   "metadata": {},
   "outputs": [
    {
     "data": {
      "text/plain": [
       "(0, 100)"
      ]
     },
     "execution_count": 53,
     "metadata": {},
     "output_type": "execute_result"
    },
    {
     "data": {
      "image/png": "[encoded data removed]",
      "text/plain": [
       "<Figure size 720x216 with 1 Axes>"
      ]
     },
     "metadata": {
      "needs_background": "light"
     },
     "output_type": "display_data"
    }
   ],
   "source": [
    "#Graphing percentage change of individual animals\n",
    "\n",
    "plt.figure(figsize=(10,3))\n",
    "plt.tight_layout()\n",
    "\n",
    "plt.axhline(0, color='k', alpha=0.75)\n",
    "\n",
    "plt.bar(saline_RD[\"Animal ID\"], saline_RD[\"Percentage change\"], color=\"C0\")\n",
    "plt.bar(ba_RD[\"Animal ID\"], ba_RD[\"Percentage change\"], color=\"C0\")\n",
    "plt.bar(saline_HFD[\"Animal ID\"], saline_HFD[\"Percentage change\"], color=\"C3\")\n",
    "plt.bar(ba_HFD[\"Animal ID\"], ba_HFD[\"Percentage change\"], color=\"C3\")\n",
    "plt.title(\"Percent Change\", fontsize=18, fontname=\"arial\")\n",
    "plt.xlabel(\"Animal ID\", fontsize=14, fontname=\"arial\")\n",
    "plt.ylabel(\"Percent Change (%)\", fontsize=14, fontname=\"arial\")\n",
    "plt.ylim(0, 100)"
   ]
  },
  {
   "cell_type": "code",
   "execution_count": 17,
   "metadata": {},
   "outputs": [],
   "source": [
    "# Splitting data into treatment categories \n",
    "saline_RD = summary.loc[(summary[\"Animal ID\"] == \"RD_0\") |(summary[\"Animal ID\"] == \"RD_2R\")]\n",
    "ba_RD = summary.loc[(summary[\"Animal ID\"] == \"RD_1L\")|(summary[\"Animal ID\"] == \"RD_2L\")]\n",
    "# saline_HFD = summary.loc[(summary[\"Animal ID\"] == \"HFD_1L\") | (summary[\"Animal ID\"] == \"HFD_0\")]\n",
    "# ba_HFD = summary.loc[(summary[\"Animal ID\"] == \"HFD_1R\") | (summary[\"Animal ID\"] == \"HFD_2L\")]\n",
    "\n",
    "#Averaging treatment categories\n",
    "saline_RD_summary = round(saline_RD.mean(), 2)\n",
    "ba_RD_summary = round(ba_RD.mean(), 2)\n",
    "# saline_HFD_summary = round(saline_HFD.mean(), 2)\n",
    "# ba_HFD_summary = round(ba_HFD.mean(), 2)\n",
    "\n",
    "#Calculating standard error\n",
    "saline_RD_sem = saline_RD.sem()[\"Treatment\"]\n",
    "ba_RD_sem = ba_RD.sem()[\"Treatment\"]\n",
    "# saline_HFD_sem = saline_HFD.sem()[\"Treatment\"]\n",
    "# ba_HFD_sem = ba_HFD.sem()[\"Treatment\"]"
   ]
  },
  {
   "cell_type": "code",
   "execution_count": 50,
   "metadata": {},
   "outputs": [
    {
     "data": {
      "text/plain": [
       "<Figure size 432x288 with 0 Axes>"
      ]
     },
     "metadata": {},
     "output_type": "display_data"
    },
    {
     "data": {
      "image/png": "[encoded data removed]",
      "text/plain": [
       "<Figure size 432x288 with 1 Axes>"
      ]
     },
     "metadata": {
      "needs_background": "light"
     },
     "output_type": "display_data"
    }
   ],
   "source": [
    "## combine these different collections into a list\n",
    "\n",
    "plt.tight_layout()\n",
    "data_to_plot = [saline_RD[\"Percentage change\"], ba_RD[\"Percentage change\"], saline_HFD[\"Percentage change\"], ba_HFD[\"Percentage change\"]]\n",
    "\n",
    "fig = plt.figure()\n",
    "# Create an axes instance\n",
    "ax = fig.add_axes([0,0,1,1])\n",
    "labels = [\"RD-Saline\", \"RD-Beta-alanine\", \"HFD-Saline\", \"HFD-Beta-alanine\"]\n",
    "# Create the boxplot\n",
    "bp = ax.boxplot(data_to_plot, patch_artist=True, labels=labels, boxprops=dict(facecolor=\"C0\"))\n",
    "plt.title(\"Percent Change (Baseline-Treatment)\", fontsize=18, fontname=\"arial\")\n",
    "plt.ylabel(\"Percent Change (%)\", fontsize=14, fontname=\"arial\")\n",
    "plt.ylim(0, 100)\n",
    "\n",
    "plt.show()"
   ]
  },
  {
   "cell_type": "code",
   "execution_count": 27,
   "metadata": {},
   "outputs": [],
   "source": [
    "# Treatment summary\n",
    "treatment_summary = pd.DataFrame({\"RD_Saline\":  saline_RD_summary,\n",
    "                                  \"RD_Beta-alanine\":  ba_RD_summary,\n",
    "                                  \"HFD_Saline\": saline_HFD_summary,\n",
    "                                  \"HFD_Beta-alanine\": ba_HFD_summary})\n",
    "treatment_summary = treatment_summary.transpose().reset_index().rename(columns={\"index\": \"Average\"})\n",
    "treatment_summary"
   ]
  },
  {
   "cell_type": "code",
   "execution_count": 63,
   "metadata": {},
   "outputs": [
    {
     "data": {
      "text/plain": [
       "([0, 1, 2, 3], <a list of 4 Text xticklabel objects>)"
      ]
     },
     "execution_count": 63,
     "metadata": {},
     "output_type": "execute_result"
    },
    {
     "data": {
      "image/png": "[encoded data removed]",
      "text/plain": [
       "<Figure size 720x360 with 1 Axes>"
      ]
     },
     "metadata": {
      "needs_background": "light"
     },
     "output_type": "display_data"
    }
   ],
   "source": [
    "#Treatment\n",
    "plt.figure(figsize=(10,5))\n",
    "plt.tight_layout()\n",
    "\n",
    "color = [\"navy\", \"deepskyblue\", \"C3\", \"lightcoral\"]\n",
    "yerr = [saline_RD_sem, ba_RD_sem, saline_HFD_sem, ba_HFD_sem]\n",
    "plt.bar(treatment_summary[\"Average\"], treatment_summary[\"Treatment\"], color=color, yerr=yerr)\n",
    "\n",
    "plt.title(\"VF\", fontsize=18, fontname=\"arial\")\n",
    "plt.ylabel(\"50% Withdrawal Threshold (g)\", fontsize=14, fontname=\"arial\")\n",
    "plt.ylim(0, 1.5)\n",
    "plt.xticks(fontsize=14)"
   ]
  },
  {
   "cell_type": "code",
   "execution_count": 30,
   "metadata": {},
   "outputs": [],
   "source": [
    "with pd.ExcelWriter('Exp_276_VF_output.xlsx') as writer:\n",
    "    summary.to_excel(writer, sheet_name='summary.csv', index=False)\n",
    "    saline_RD.to_excel(writer, sheet_name='RD_saline.csv', index=False)\n",
    "    ba_RD.to_excel(writer, sheet_name='RD_Beta-alanine.csv', index=False)\n",
    "    saline_HFD.to_excel(writer, sheet_name='HFD_saline.csv', index=False)\n",
    "    ba_HFD.to_excel(writer, sheet_name='HFD_Beta-alanine.csv', index=False)\n",
    "    treatment_summary.to_excel(writer, sheet_name='treatment_summary', index=False)"
   ]
  }
 ],
 "metadata": {
  "kernelspec": {
   "display_name": "Python 3",
   "language": "python",
   "name": "python3"
  },
  "language_info": {
   "codemirror_mode": {
    "name": "ipython",
    "version": 3
   },
   "file_extension": ".py",
   "mimetype": "text/x-python",
   "name": "python",
   "nbconvert_exporter": "python",
   "pygments_lexer": "ipython3",
   "version": "3.7.4"
  }
 },
 "nbformat": 4,
 "nbformat_minor": 2
}
